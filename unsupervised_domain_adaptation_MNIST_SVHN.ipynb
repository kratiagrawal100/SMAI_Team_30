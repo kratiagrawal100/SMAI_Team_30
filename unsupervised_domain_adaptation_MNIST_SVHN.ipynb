{
  "nbformat": 4,
  "nbformat_minor": 0,
  "metadata": {
    "colab": {
      "provenance": [],
      "authorship_tag": "ABX9TyOLcWKjsZ5H/6YjlynZ96f4",
      "include_colab_link": true
    },
    "kernelspec": {
      "name": "python3",
      "display_name": "Python 3"
    },
    "language_info": {
      "name": "python"
    }
  },
  "cells": [
    {
      "cell_type": "markdown",
      "metadata": {
        "id": "view-in-github",
        "colab_type": "text"
      },
      "source": [
        "<a href=\"https://colab.research.google.com/github/kratiagrawal100/SMAI_Team_30/blob/main/unsupervised_domain_adaptation_MNIST_SVHN.ipynb\" target=\"_parent\"><img src=\"https://colab.research.google.com/assets/colab-badge.svg\" alt=\"Open In Colab\"/></a>"
      ]
    },
    {
      "cell_type": "code",
      "execution_count": 1,
      "metadata": {
        "id": "IFOQlj3Dq4z7"
      },
      "outputs": [],
      "source": [
        "import pickle\n",
        "import math\n",
        "\n",
        "import numpy as np\n",
        "import torch\n",
        "from torch import nn\n",
        "from torch.nn import functional as F\n",
        "from torch.utils.data import DataLoader\n",
        "from torchvision.datasets import ImageFolder\n",
        "from torchvision import transforms\n",
        "import torchvision\n",
        "from PIL import Image\n",
        "from matplotlib import pyplot as plt\n",
        "import numpy as np"
      ]
    },
    {
      "cell_type": "code",
      "source": [
        "transform = transforms.Compose([\n",
        "    transforms.Resize((28, 28)),    # resize the images to 28x28\n",
        "    transforms.ToTensor()           # convert the images to PyTorch tensors\n",
        "])\n",
        "train_dataset = torchvision.datasets.SVHN(root='./data', split='train', download=True, transform=transform)\n",
        "test_dataset = torchvision.datasets.SVHN(root='./data', split='test', download=True, transform=transform)"
      ],
      "metadata": {
        "colab": {
          "base_uri": "https://localhost:8080/"
        },
        "id": "70zhSD1Xv71_",
        "outputId": "adcbe4e1-6147-4fca-ae04-7aed4e5518b8"
      },
      "execution_count": 40,
      "outputs": [
        {
          "output_type": "stream",
          "name": "stdout",
          "text": [
            "Using downloaded and verified file: ./data/train_32x32.mat\n",
            "Using downloaded and verified file: ./data/test_32x32.mat\n"
          ]
        }
      ]
    },
    {
      "cell_type": "code",
      "source": [
        "len(train_dataset)"
      ],
      "metadata": {
        "colab": {
          "base_uri": "https://localhost:8080/"
        },
        "id": "61RLb4zI50vU",
        "outputId": "5d6a7619-035e-4757-ccce-bf1713e5a312"
      },
      "execution_count": 43,
      "outputs": [
        {
          "output_type": "execute_result",
          "data": {
            "text/plain": [
              "73257"
            ]
          },
          "metadata": {},
          "execution_count": 43
        }
      ]
    },
    {
      "cell_type": "code",
      "source": [
        "train_dataloader = torch.utils.data.DataLoader(train_dataset, batch_size=128, shuffle=True)\n",
        "test_dataloader = torch.utils.data.DataLoader(test_dataset, batch_size=128, shuffle=True)\n"
      ],
      "metadata": {
        "id": "UnfUHQIowyGE"
      },
      "execution_count": 44,
      "outputs": []
    },
    {
      "cell_type": "code",
      "source": [
        "dataiter = iter(train_dataloader)\n",
        "images, labels = next(dataiter)\n",
        "print(images[0].shape)\n",
        "plt.figure(figsize=(10, 7))\n",
        "\n",
        "for i in range(5):\n",
        "  ax = plt.subplot(1, 5, i + 1)\n",
        "  ax.axis('off')\n",
        "  img = images[i].permute(1, 2, 0)\n",
        "  plt.imshow(img)\n",
        "  plt.title(labels[i].numpy())"
      ],
      "metadata": {
        "colab": {
          "base_uri": "https://localhost:8080/",
          "height": 173
        },
        "id": "hIPqo7suxYmv",
        "outputId": "813d7eaf-8724-41d6-a548-f109387dce9a"
      },
      "execution_count": 45,
      "outputs": [
        {
          "output_type": "stream",
          "name": "stdout",
          "text": [
            "torch.Size([3, 28, 28])\n"
          ]
        },
        {
          "output_type": "display_data",
          "data": {
            "text/plain": [
              "<Figure size 1000x700 with 5 Axes>"
            ],
            "image/png": "[encoded data removed]"
          },
          "metadata": {}
        }
      ]
    },
    {
      "cell_type": "code",
      "source": [
        "mnist_pixels = torchvision.datasets.MNIST('.', train=True, download=True).data / 255\n",
        "mean = mnist_pixels.mean().item()\n",
        "std = mnist_pixels.std().item()\n",
        "\n",
        "print(f\"Mean {mean} and Std {std}\")\n",
        "mean = torch.tensor([mean, mean, mean])\n",
        "std = torch.tensor([std, std, std])\n",
        "transform = transforms.Compose([\n",
        "  transforms.ToTensor(),\n",
        "  lambda x: x.repeat(3, 1, 1) if x.shape[0] == 1 else x,\n",
        "  transforms.Normalize(mean, std)\n",
        "])\n",
        "\n",
        "mnist_train = torchvision.datasets.MNIST('.', train=True, transform=transform)\n",
        "mnist_train, mnist_val = torch.utils.data.random_split(mnist_train, [50000, 10000])\n",
        "mnist_test = torchvision.datasets.MNIST('.', train=False, transform=transform)\n",
        "\n",
        "source_train_loader = DataLoader(mnist_train, batch_size=128)\n",
        "source_test_loader = DataLoader(mnist_test, batch_size=128)"
      ],
      "metadata": {
        "colab": {
          "base_uri": "https://localhost:8080/"
        },
        "id": "UvPZ3BRnzV4p",
        "outputId": "0ff22a88-6b6e-4b62-8c9e-a11e8cb3bf22"
      },
      "execution_count": 28,
      "outputs": [
        {
          "output_type": "stream",
          "name": "stdout",
          "text": [
            "Downloading http://yann.lecun.com/exdb/mnist/train-images-idx3-ubyte.gz\n",
            "Downloading http://yann.lecun.com/exdb/mnist/train-images-idx3-ubyte.gz to ./MNIST/raw/train-images-idx3-ubyte.gz\n"
          ]
        },
        {
          "output_type": "stream",
          "name": "stderr",
          "text": [
            "100%|██████████| 9912422/9912422 [00:00<00:00, 94814777.95it/s]\n"
          ]
        },
        {
          "output_type": "stream",
          "name": "stdout",
          "text": [
            "Extracting ./MNIST/raw/train-images-idx3-ubyte.gz to ./MNIST/raw\n",
            "\n",
            "Downloading http://yann.lecun.com/exdb/mnist/train-labels-idx1-ubyte.gz\n",
            "Downloading http://yann.lecun.com/exdb/mnist/train-labels-idx1-ubyte.gz to ./MNIST/raw/train-labels-idx1-ubyte.gz\n"
          ]
        },
        {
          "output_type": "stream",
          "name": "stderr",
          "text": [
            "100%|██████████| 28881/28881 [00:00<00:00, 19112605.53it/s]\n"
          ]
        },
        {
          "output_type": "stream",
          "name": "stdout",
          "text": [
            "Extracting ./MNIST/raw/train-labels-idx1-ubyte.gz to ./MNIST/raw\n",
            "\n",
            "Downloading http://yann.lecun.com/exdb/mnist/t10k-images-idx3-ubyte.gz\n",
            "Downloading http://yann.lecun.com/exdb/mnist/t10k-images-idx3-ubyte.gz to ./MNIST/raw/t10k-images-idx3-ubyte.gz\n"
          ]
        },
        {
          "output_type": "stream",
          "name": "stderr",
          "text": [
            "100%|██████████| 1648877/1648877 [00:00<00:00, 26966850.05it/s]\n"
          ]
        },
        {
          "output_type": "stream",
          "name": "stdout",
          "text": [
            "Extracting ./MNIST/raw/t10k-images-idx3-ubyte.gz to ./MNIST/raw\n",
            "\n",
            "Downloading http://yann.lecun.com/exdb/mnist/t10k-labels-idx1-ubyte.gz\n",
            "Downloading http://yann.lecun.com/exdb/mnist/t10k-labels-idx1-ubyte.gz to ./MNIST/raw/t10k-labels-idx1-ubyte.gz\n"
          ]
        },
        {
          "output_type": "stream",
          "name": "stderr",
          "text": [
            "100%|██████████| 4542/4542 [00:00<00:00, 12941935.30it/s]\n"
          ]
        },
        {
          "output_type": "stream",
          "name": "stdout",
          "text": [
            "Extracting ./MNIST/raw/t10k-labels-idx1-ubyte.gz to ./MNIST/raw\n",
            "\n",
            "Mean 0.13066047430038452 and Std 0.30810782313346863\n"
          ]
        }
      ]
    },
    {
      "cell_type": "code",
      "source": [
        "dataiter = iter(source_train_loader)\n",
        "images, labels = next(dataiter)\n",
        "print(images[0].shape)\n",
        "plt.figure(figsize=(10, 10))\n",
        "\n",
        "plt.figure(figsize=(10, 7))\n",
        "\n",
        "for i in range(5):\n",
        "  ax = plt.subplot(1, 5, i + 1)\n",
        "  ax.axis('off')\n",
        "\n",
        "  x = images[i]\n",
        "  img = ((x * std[:, None, None] + mean[:, None, None]) * 255).permute(1, 2, 0)\n",
        "  plt.imshow(img.numpy().astype(np.uint8), cmap='gray')\n",
        "  plt.title(labels[i].numpy())"
      ],
      "metadata": {
        "colab": {
          "base_uri": "https://localhost:8080/",
          "height": 190
        },
        "id": "OF05_gcl01QU",
        "outputId": "9f74f689-3652-4952-ccd6-be0403f801e0"
      },
      "execution_count": 37,
      "outputs": [
        {
          "output_type": "stream",
          "name": "stdout",
          "text": [
            "torch.Size([3, 28, 28])\n"
          ]
        },
        {
          "output_type": "display_data",
          "data": {
            "text/plain": [
              "<Figure size 1000x1000 with 0 Axes>"
            ]
          },
          "metadata": {}
        },
        {
          "output_type": "display_data",
          "data": {
            "text/plain": [
              "<Figure size 1000x700 with 5 Axes>"
            ],
            "image/png": "[encoded data removed]"
          },
          "metadata": {}
        }
      ]
    },
    {
      "cell_type": "code",
      "source": [
        "class NaiveNet(nn.Module):\n",
        "  def __init__(self):\n",
        "    super().__init__()  # Important, otherwise will throw an error\n",
        "\n",
        "    self.cnn = nn.Sequential(\n",
        "        nn.Conv2d(3, 64, kernel_size=5),  # 64x24x24\n",
        "        nn.ReLU(inplace=True),\n",
        "        nn.MaxPool2d(kernel_size=2, stride=2),  # 32x12x12\n",
        "        nn.Conv2d(32, 48, kernel_size=5),  # 48x8x8\n",
        "        nn.ReLU(inplace=True),\n",
        "        nn.MaxPool2d(kernel_size=2, stride=2),  # 48x4x4\n",
        "    )\n",
        "\n",
        "    self.classif = nn.Sequential(\n",
        "        nn.Linear(4 * 4 * 48, 100),\n",
        "        nn.ReLU(inplace=True),\n",
        "        nn.Linear(100, 100),\n",
        "        nn.ReLU(inplace=True),\n",
        "        nn.Linear(100, 10)\n",
        "    )\n",
        "\n",
        "  def forward(self, x):\n",
        "    batch_size = len(x)\n",
        "\n",
        "    x = self.cnn(x)\n",
        "    x = x.view(batch_size, -1)\n",
        "    return self.classif(x)\n"
      ],
      "metadata": {
        "id": "o-yefrZM3y-W"
      },
      "execution_count": null,
      "outputs": []
    }
  ]
}